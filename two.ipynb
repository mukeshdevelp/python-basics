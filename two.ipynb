{
 "cells": [
  {
   "cell_type": "markdown",
   "metadata": {},
   "source": [
    "    Creating a 2-D coordinate geometric system : "
   ]
  },
  {
   "cell_type": "code",
   "execution_count": 3,
   "metadata": {},
   "outputs": [],
   "source": [
    "class Point:\n",
    "    def __init__(self, x_coord , y_coord):\n",
    "        #self.x is the variable\n",
    "        self.x = x_coord\n",
    "        self.y = y_coord\n",
    "    # craeting how point will be seen   \n",
    "    def __str__(self):\n",
    "        return '({},{})'.format(self.x,self.y) \n",
    "           "
   ]
  },
  {
   "cell_type": "code",
   "execution_count": 5,
   "metadata": {},
   "outputs": [
    {
     "name": "stdout",
     "output_type": "stream",
     "text": [
      "(0,0)\n"
     ]
    }
   ],
   "source": [
    "p1 = Point(0,0)\n",
    "# point will look like this :- (x,y)\n",
    "print(p1)"
   ]
  },
  {
   "cell_type": "code",
   "execution_count": 8,
   "metadata": {},
   "outputs": [
    {
     "name": "stdout",
     "output_type": "stream",
     "text": [
      "(-1,2)\n"
     ]
    }
   ],
   "source": [
    "p2 = Point(-1,2)\n",
    "print(p2)"
   ]
  },
  {
   "cell_type": "code",
   "execution_count": 52,
   "metadata": {},
   "outputs": [],
   "source": [
    "class Point:\n",
    "    def __init__(self, x_coord , y_coord):\n",
    "        #self.x is the variable\n",
    "        self.x = x_coord\n",
    "        self.y = y_coord\n",
    "    # craeting how point will be seen   \n",
    "    def __str__(self):\n",
    "        return '({},{})'.format(self.x,self.y) \n",
    "    \n",
    "\n",
    "    # distance finding method\n",
    "    def eucladian_distance(self, other):\n",
    "        # 'other' is second point\n",
    "        return ((other.x - self.x)**2 + (other.y - self.y)**2) ** 0.5\n",
    "    \n",
    "    # distance form origin\n",
    "    def dist_from_origin(self):\n",
    "        # alternate code\n",
    "        # retrun (self.x**2 +self.y ** 2)**0.5\n",
    "        # calling the other method of the same class \n",
    "        return self.eucladian_distance(Point(0,0))"
   ]
  },
  {
   "cell_type": "code",
   "execution_count": 55,
   "metadata": {},
   "outputs": [],
   "source": [
    "# checking if a given point exists on a line or not\n",
    "class Line:\n",
    "    # equation of the line is - Ax + By + c = 0 -> a , b , c are taken from the user\n",
    "    def __init__(self, a ,b ,c):\n",
    "        self.A = a\n",
    "        self.B = b\n",
    "        self.C = c\n",
    "\n",
    "    # method to show the equation of the line\n",
    "    def __str__(self):\n",
    "        return f'{self.A}x + ({self.B}y) + ({self.C}) = 0'\n",
    "    \n",
    "    # method to check if the point exists or not\n",
    "\n",
    "    def point_on_line(line , point):\n",
    "        if line.A * point.x + line.B * point.y + line.C == 0:\n",
    "            return f'({point.x},{point.y}) exists on the line'\n",
    "        else:\n",
    "            return 'does not exist on the line'\n",
    "\n",
    "    # distance between a given point and a line    \n",
    "    def shortest_distance(line,point):\n",
    "        return abs(((line.A * point.x) + (line.B * point.y) + line.C)) /(line.A**2 + line.B**2)**0.5"
   ]
  },
  {
   "cell_type": "code",
   "execution_count": 56,
   "metadata": {},
   "outputs": [
    {
     "name": "stdout",
     "output_type": "stream",
     "text": [
      "1x + (1y) + (-2) = 0\n",
      "(1,1)\n"
     ]
    }
   ],
   "source": [
    "# here l1 contains the adrees of Line() object\n",
    "l1 = Line(1,1,-2)\n",
    "p1 = Point(1,1)\n",
    "print(l1)\n",
    "print(p1)"
   ]
  },
  {
   "cell_type": "code",
   "execution_count": 57,
   "metadata": {},
   "outputs": [
    {
     "data": {
      "text/plain": [
       "0.0"
      ]
     },
     "execution_count": 57,
     "metadata": {},
     "output_type": "execute_result"
    }
   ],
   "source": [
    "l1.shortest_distance(p1)"
   ]
  },
  {
   "cell_type": "code",
   "execution_count": 49,
   "metadata": {},
   "outputs": [
    {
     "data": {
      "text/plain": [
       "'(1,1) exists on the line'"
      ]
     },
     "execution_count": 49,
     "metadata": {},
     "output_type": "execute_result"
    }
   ],
   "source": [
    "# l1 automaticallly becomes the first argument of the method\n",
    "l1.point_on_line(p1)"
   ]
  },
  {
   "cell_type": "code",
   "execution_count": 28,
   "metadata": {},
   "outputs": [
    {
     "name": "stdout",
     "output_type": "stream",
     "text": [
      "3x + (-4y) + (5) = 0\n"
     ]
    }
   ],
   "source": [
    "l1 = Line(3,-4,5)\n",
    "print(l1)"
   ]
  },
  {
   "cell_type": "code",
   "execution_count": 15,
   "metadata": {},
   "outputs": [
    {
     "data": {
      "text/plain": [
       "14.142135623730951"
      ]
     },
     "execution_count": 15,
     "metadata": {},
     "output_type": "execute_result"
    }
   ],
   "source": [
    "p1 = Point(0,0)\n",
    "p2 = Point(10,10)\n",
    "\n",
    "# calculating the distance by invoking the method\n",
    "p1.eucladian_distance(p2)"
   ]
  },
  {
   "cell_type": "code",
   "execution_count": 17,
   "metadata": {},
   "outputs": [
    {
     "data": {
      "text/plain": [
       "14.142135623730951"
      ]
     },
     "execution_count": 17,
     "metadata": {},
     "output_type": "execute_result"
    }
   ],
   "source": [
    "p2.dist_from_origin()"
   ]
  },
  {
   "cell_type": "code",
   "execution_count": 18,
   "metadata": {},
   "outputs": [
    {
     "data": {
      "text/plain": [
       "0.0"
      ]
     },
     "execution_count": 18,
     "metadata": {},
     "output_type": "execute_result"
    }
   ],
   "source": [
    "p1.dist_from_origin()"
   ]
  },
  {
   "cell_type": "markdown",
   "metadata": {},
   "source": [
    "    How objects access attributes : "
   ]
  },
  {
   "cell_type": "code",
   "execution_count": 58,
   "metadata": {},
   "outputs": [],
   "source": [
    "class Person:\n",
    "    def __init__(self,name_inp, country_inp):\n",
    "\n",
    "        self.name = name_inp\n",
    "        self.country = country_inp\n",
    "\n",
    "    def greet(self):\n",
    "        if self.country == 'India':\n",
    "            print(f'namaste {self.name}')\n",
    "        else:\n",
    "            print(f'hello {self.name}')\n"
   ]
  },
  {
   "cell_type": "code",
   "execution_count": 61,
   "metadata": {},
   "outputs": [
    {
     "name": "stdout",
     "output_type": "stream",
     "text": [
      "namaste mukesh\n"
     ]
    }
   ],
   "source": [
    "p = Person('mukesh', 'India')\n",
    "p.greet()"
   ]
  },
  {
   "cell_type": "code",
   "execution_count": 62,
   "metadata": {},
   "outputs": [
    {
     "ename": "AttributeError",
     "evalue": "'Person' object has no attribute 'gender'",
     "output_type": "error",
     "traceback": [
      "\u001b[1;31m---------------------------------------------------------------------------\u001b[0m",
      "\u001b[1;31mAttributeError\u001b[0m                            Traceback (most recent call last)",
      "Cell \u001b[1;32mIn[62], line 2\u001b[0m\n\u001b[0;32m      1\u001b[0m \u001b[38;5;66;03m# trying to access a non-existant atttribute\u001b[39;00m\n\u001b[1;32m----> 2\u001b[0m \u001b[43mp\u001b[49m\u001b[38;5;241;43m.\u001b[39;49m\u001b[43mgender\u001b[49m\n",
      "\u001b[1;31mAttributeError\u001b[0m: 'Person' object has no attribute 'gender'"
     ]
    }
   ],
   "source": [
    "# trying to access a non-existant atttribute\n",
    "p.gender"
   ]
  },
  {
   "cell_type": "markdown",
   "metadata": {},
   "source": [
    "    Attribute creation outside the class"
   ]
  },
  {
   "cell_type": "code",
   "execution_count": 63,
   "metadata": {},
   "outputs": [],
   "source": [
    "p.gender = 'male'"
   ]
  },
  {
   "cell_type": "code",
   "execution_count": 64,
   "metadata": {},
   "outputs": [
    {
     "data": {
      "text/plain": [
       "'male'"
      ]
     },
     "execution_count": 64,
     "metadata": {},
     "output_type": "execute_result"
    }
   ],
   "source": [
    "p.gender"
   ]
  },
  {
   "cell_type": "markdown",
   "metadata": {},
   "source": [
    "    REFERENCE VARIABLES :\n",
    "    1. reference variables hold the object.\n",
    "    2. we can create objects without reference variable too.\n",
    "    3. an object can have multiple reference variables.\n",
    "    4. assigning a new reference variable to an existing object does not create a new object."
   ]
  },
  {
   "cell_type": "code",
   "execution_count": 71,
   "metadata": {},
   "outputs": [
    {
     "data": {
      "text/plain": [
       "<__main__.Person at 0x1d75e39b0e0>"
      ]
     },
     "execution_count": 71,
     "metadata": {},
     "output_type": "execute_result"
    }
   ],
   "source": [
    "# object without a reference\n",
    "\n",
    "class Person:\n",
    "    def __init__(self):\n",
    "        self.name = 'Mukesh Kumar'\n",
    "        self.gender = 'Male'\n",
    "\n",
    "# creating object without reference\n",
    "Person()"
   ]
  },
  {
   "cell_type": "code",
   "execution_count": 72,
   "metadata": {},
   "outputs": [],
   "source": [
    "# here p is not the object it is a reference variable which contains the memory address of Person() object \n",
    "p = Person()\n",
    "# Multiple reference\n",
    "q= p "
   ]
  },
  {
   "cell_type": "code",
   "execution_count": 73,
   "metadata": {},
   "outputs": [
    {
     "data": {
      "text/plain": [
       "True"
      ]
     },
     "execution_count": 73,
     "metadata": {},
     "output_type": "execute_result"
    }
   ],
   "source": [
    "q == p"
   ]
  },
  {
   "cell_type": "code",
   "execution_count": 74,
   "metadata": {},
   "outputs": [
    {
     "data": {
      "text/plain": [
       "True"
      ]
     },
     "execution_count": 74,
     "metadata": {},
     "output_type": "execute_result"
    }
   ],
   "source": [
    "id(q) == id(p)"
   ]
  },
  {
   "cell_type": "code",
   "execution_count": 75,
   "metadata": {},
   "outputs": [
    {
     "data": {
      "text/plain": [
       "'Mukesh Kumar'"
      ]
     },
     "execution_count": 75,
     "metadata": {},
     "output_type": "execute_result"
    }
   ],
   "source": [
    "p.name\n",
    "q.name"
   ]
  },
  {
   "cell_type": "code",
   "execution_count": 76,
   "metadata": {},
   "outputs": [],
   "source": [
    "q.name = 'Nastik'"
   ]
  },
  {
   "cell_type": "code",
   "execution_count": 77,
   "metadata": {},
   "outputs": [
    {
     "data": {
      "text/plain": [
       "True"
      ]
     },
     "execution_count": 77,
     "metadata": {},
     "output_type": "execute_result"
    }
   ],
   "source": [
    "q.name == p.name"
   ]
  },
  {
   "cell_type": "code",
   "execution_count": 78,
   "metadata": {},
   "outputs": [
    {
     "data": {
      "text/plain": [
       "'Nastik'"
      ]
     },
     "execution_count": 78,
     "metadata": {},
     "output_type": "execute_result"
    }
   ],
   "source": [
    "q.name"
   ]
  },
  {
   "cell_type": "code",
   "execution_count": 79,
   "metadata": {},
   "outputs": [
    {
     "data": {
      "text/plain": [
       "'Nastik'"
      ]
     },
     "execution_count": 79,
     "metadata": {},
     "output_type": "execute_result"
    }
   ],
   "source": [
    "p.name"
   ]
  },
  {
   "cell_type": "markdown",
   "metadata": {},
   "source": [
    "    PASS BY REFERENCE:"
   ]
  },
  {
   "cell_type": "markdown",
   "metadata": {},
   "source": [
    "    PYTHON OBJECTS ARE 'MUTABLE' - USI JAGAH PR RAKHTE HUE CHNAGE KIYA JA SAKTE HAI OBJECT KO"
   ]
  },
  {
   "cell_type": "code",
   "execution_count": 88,
   "metadata": {},
   "outputs": [
    {
     "name": "stdout",
     "output_type": "stream",
     "text": [
      "2024510464624\n",
      "hello my name is Mukesh and i am a male\n",
      "2024510464624\n",
      "Ankit\n"
     ]
    }
   ],
   "source": [
    "class Person:\n",
    "\n",
    "    def __init__(self,name, gender):\n",
    "        self.name = name\n",
    "        self.gender = gender\n",
    "\n",
    "#outside the class hence a function\n",
    "def greet(person):\n",
    "    print('hello my name is', person.name, 'and i am a', person.gender )\n",
    "    print(id(person))\n",
    "    #returning the object\n",
    "    per = Person('Ankit', 'male')\n",
    "\n",
    "    return per\n",
    "\n",
    "pers = Person('Mukesh', 'male')\n",
    "print(id(pers))\n",
    "# Pass by reference and receiving the returned object\n",
    "x = greet(pers)\n",
    "\n",
    "print(x.name)"
   ]
  },
  {
   "cell_type": "markdown",
   "metadata": {},
   "source": [
    "    Object ki mutability ka example: \n"
   ]
  },
  {
   "cell_type": "code",
   "execution_count": 92,
   "metadata": {},
   "outputs": [
    {
     "name": "stdout",
     "output_type": "stream",
     "text": [
      "nitish\n",
      "2024510477504\n",
      "ankita\n",
      "ankita\n",
      "2024510477504\n"
     ]
    }
   ],
   "source": [
    "class Person:\n",
    "    def __init__(self,name,gender):\n",
    "        self.name = name\n",
    "        self.gender = gender\n",
    "# function\n",
    "def greet(person):\n",
    "    person.name = 'ankita'\n",
    "    return person\n",
    "\n",
    "\n",
    "\n",
    "p = Person('nitish', 'male')\n",
    "print(p.name)\n",
    "\n",
    "print(id(p))\n",
    "\n",
    "p1 = greet(p)\n",
    "print(p1.name)\n",
    "print(p.name)\n",
    "\n",
    "print(id(p))"
   ]
  },
  {
   "cell_type": "markdown",
   "metadata": {},
   "source": [
    "    Encapsulation : - hiding and binding complex data."
   ]
  },
  {
   "cell_type": "code",
   "execution_count": 94,
   "metadata": {},
   "outputs": [
    {
     "data": {
      "text/plain": [
       "<__main__.Person at 0x1d75e58ba10>"
      ]
     },
     "execution_count": 94,
     "metadata": {},
     "output_type": "execute_result"
    }
   ],
   "source": [
    "\n",
    "class Person:\n",
    "    def __init__(self, name_inp, country_inp):\n",
    "        # intstance variable => name and country -> aisa var jiski value alag alag object k liye alg lag hota hai\n",
    "        self.name = name_inp\n",
    "        self.country = country_inp\n",
    "\n",
    "\n",
    "Person('Nitish', 'India')\n",
    "Person('Steve', 'USA')\n",
    "\n"
   ]
  },
  {
   "cell_type": "code",
   "execution_count": 2,
   "metadata": {},
   "outputs": [],
   "source": [
    "\n",
    "import sys\n",
    "class Atm:\n",
    "    \n",
    "    def __init__(self):\n",
    "        \n",
    "        self.pin = ''\n",
    "        # making balance private => so that junior mujhe company se nikwa de\n",
    "        self.__balance = 0\n",
    "        self.__menu()\n",
    "\n",
    "\n",
    "    # making menu() method private   \n",
    "    def __menu(self):\n",
    "       \n",
    "\n",
    "        user_input = input(\"\"\"\n",
    "        1. press 1 to create pin\n",
    "        2. press 2 to change pin\n",
    "        3. press 3 to check balance\n",
    "        4. press 4 to withdraw money\n",
    "        5. Anything to exit\"\"\")\n",
    "        \n",
    "        \n",
    "        if user_input == '1':\n",
    "            # creating pin\n",
    "            self.create_pin()\n",
    "        \n",
    "        \n",
    "        elif user_input == '2':\n",
    "            #change pin\n",
    "            self.change_pin()\n",
    "            \n",
    "        \n",
    "        elif user_input == '3':\n",
    "            #check balance\n",
    "            self.check_bal()\n",
    "        \n",
    "        \n",
    "        elif user_input == '4':\n",
    "            #withdarw\n",
    "            self.withdraw()        \n",
    "        \n",
    "        else:\n",
    "            self.exit()\n",
    "    \n",
    "    # create new pin\n",
    "    def create_pin(self):\n",
    "        user_pin = input(\"Enter your pin : \")\n",
    "\n",
    "        self.pin = user_pin\n",
    "\n",
    "        #setting user bal by taking the input\n",
    "        user_bal = int(input(\"enter your balance :\"))\n",
    "\n",
    "        self.__balance = user_bal\n",
    "        print(\"pin created successfully\")\n",
    "        #calling the menu\n",
    "        self.__menu()\n",
    "\n",
    "    #change pin function\n",
    "    def change_pin(self):\n",
    "        old_pin = input(\"Enter old pin\")\n",
    "\n",
    "        if old_pin == self.pin:\n",
    "            #let him change the pin\n",
    "            new_pin = input('Enter new Pin')\n",
    "            self.pin = new_pin\n",
    "            print(\"pin changed successfully\")\n",
    "            self.__menu()\n",
    "        else:\n",
    "            print('invalid pin')\n",
    "            #self.__menu()\n",
    "\n",
    "    # check balance\n",
    "    def check_bal(self):\n",
    "        user_pin = input(\"enter your pin\")\n",
    "\n",
    "        if user_pin == self.pin:\n",
    "            print(\"your balance is : \" + self.__balance)\n",
    "        else:\n",
    "            print(\"you Entered the wrong pin . please enter the pin correctly and try again\")\n",
    "\n",
    "    # withdraw function -\n",
    "    #  koi bhi method class k likhe kisi bhi method ko call nahi kr skta. Ye kaam sirf object hi kr skta hai.\n",
    "    def withdraw(self):\n",
    "        user_pin  = input(\"Enter the pin\")\n",
    "        if user_pin == self.pin:\n",
    "            #allow to withdraw\n",
    "            amount = int(input('enter the amount'))\n",
    "            #checking sufficient bal or not\n",
    "            if amount <= self.__balance:\n",
    "                self.__balance = self.__balance - amount\n",
    "                print(\"withdrawl successsful\")\n",
    "                print(\"your balance after withdrawl is :\", self.__balance)\n",
    "            else:\n",
    "                print(\"insufficient funds\")\n",
    "        else:\n",
    "            print(\"password incorrect\")\n",
    "\n",
    "        #calling the menu\n",
    "        self.__menu()\n",
    "\n",
    "    #exit function\n",
    "    def exit(self):\n",
    "        pass"
   ]
  },
  {
   "cell_type": "code",
   "execution_count": 3,
   "metadata": {},
   "outputs": [],
   "source": [
    "obj = Atm()"
   ]
  },
  {
   "cell_type": "code",
   "execution_count": 4,
   "metadata": {},
   "outputs": [
    {
     "name": "stdout",
     "output_type": "stream",
     "text": [
      "pin created successfully\n"
     ]
    }
   ],
   "source": [
    "obj.create_pin()\n",
    "\n",
    "# Accessing private variables\n",
    "obj._Atm__balance ='hehehehhe'"
   ]
  },
  {
   "cell_type": "code",
   "execution_count": 6,
   "metadata": {},
   "outputs": [
    {
     "ename": "TypeError",
     "evalue": "'<=' not supported between instances of 'int' and 'str'",
     "output_type": "error",
     "traceback": [
      "\u001b[1;31m---------------------------------------------------------------------------\u001b[0m",
      "\u001b[1;31mTypeError\u001b[0m                                 Traceback (most recent call last)",
      "Cell \u001b[1;32mIn[6], line 5\u001b[0m\n\u001b[0;32m      1\u001b[0m \u001b[38;5;66;03m# ye code nahi fata => kyu? =>because after changing the modifier to private the name of the variable becomes '_Atm__balance' => completely new variable\u001b[39;00m\n\u001b[0;32m      2\u001b[0m \u001b[38;5;66;03m# see pythontutor.com to debug\u001b[39;00m\n\u001b[0;32m      3\u001b[0m \n\u001b[0;32m      4\u001b[0m \u001b[38;5;66;03m# still code fat ja raha hai\u001b[39;00m\n\u001b[1;32m----> 5\u001b[0m \u001b[43mobj\u001b[49m\u001b[38;5;241;43m.\u001b[39;49m\u001b[43mwithdraw\u001b[49m\u001b[43m(\u001b[49m\u001b[43m)\u001b[49m\n",
      "Cell \u001b[1;32mIn[2], line 91\u001b[0m, in \u001b[0;36mAtm.withdraw\u001b[1;34m(self)\u001b[0m\n\u001b[0;32m     89\u001b[0m amount \u001b[38;5;241m=\u001b[39m \u001b[38;5;28mint\u001b[39m(\u001b[38;5;28minput\u001b[39m(\u001b[38;5;124m'\u001b[39m\u001b[38;5;124menter the amount\u001b[39m\u001b[38;5;124m'\u001b[39m))\n\u001b[0;32m     90\u001b[0m \u001b[38;5;66;03m#checking sufficient bal or not\u001b[39;00m\n\u001b[1;32m---> 91\u001b[0m \u001b[38;5;28;01mif\u001b[39;00m \u001b[43mamount\u001b[49m\u001b[43m \u001b[49m\u001b[38;5;241;43m<\u001b[39;49m\u001b[38;5;241;43m=\u001b[39;49m\u001b[43m \u001b[49m\u001b[38;5;28;43mself\u001b[39;49m\u001b[38;5;241;43m.\u001b[39;49m\u001b[43m__balance\u001b[49m:\n\u001b[0;32m     92\u001b[0m     \u001b[38;5;28mself\u001b[39m\u001b[38;5;241m.\u001b[39m__balance \u001b[38;5;241m=\u001b[39m \u001b[38;5;28mself\u001b[39m\u001b[38;5;241m.\u001b[39m__balance \u001b[38;5;241m-\u001b[39m amount\n\u001b[0;32m     93\u001b[0m     \u001b[38;5;28mprint\u001b[39m(\u001b[38;5;124m\"\u001b[39m\u001b[38;5;124mwithdrawl successsful\u001b[39m\u001b[38;5;124m\"\u001b[39m)\n",
      "\u001b[1;31mTypeError\u001b[0m: '<=' not supported between instances of 'int' and 'str'"
     ]
    }
   ],
   "source": [
    "# ye code nahi fata => kyu? =>because after changing the modifier to private the name of the variable becomes '_Atm__balance' => completely new variable\n",
    "# see pythontutor.com to debug\n",
    "\n",
    "# still code fat ja raha hai\n",
    "obj.withdraw()"
   ]
  },
  {
   "cell_type": "markdown",
   "metadata": {},
   "source": [
    "    getter and setters to change the values of private variables:\n",
    "    "
   ]
  },
  {
   "cell_type": "code",
   "execution_count": 30,
   "metadata": {},
   "outputs": [],
   "source": [
    "\n",
    "import sys\n",
    "class Atm:\n",
    "    \n",
    "    def __init__(self):\n",
    "        \n",
    "        self.pin = ''\n",
    "        # making balance private => so that junior mujhe company se nikwa de\n",
    "        self.__balance = 0\n",
    "        self.__menu()\n",
    "\n",
    "    # craeting getter and setter for access of private variable => because they can be accessed in the class\n",
    "\n",
    "    # getter\n",
    "    def get_bal(self):\n",
    "        return self.__balance\n",
    "    \n",
    "    # setter\n",
    "    def set_bal(self, programmer_given_value):\n",
    "        if type(programmer_given_value) == int:\n",
    "            self.__balance = programmer_given_value\n",
    "        else:\n",
    "            print('kripya sahi value dale')\n",
    "\n",
    "\n",
    "    # making menu() method private   \n",
    "    def __menu(self):\n",
    "       \n",
    "\n",
    "        user_input = input(\"\"\"\n",
    "        1. press 1 to create pin\n",
    "        2. press 2 to change pin\n",
    "        3. press 3 to check balance\n",
    "        4. press 4 to withdraw money\n",
    "        5. Anything to exit\"\"\")\n",
    "        \n",
    "        \n",
    "        if user_input == '1':\n",
    "            # creating pin\n",
    "            self.create_pin()\n",
    "        \n",
    "        \n",
    "        elif user_input == '2':\n",
    "            #change pin\n",
    "            self.change_pin()\n",
    "            \n",
    "        \n",
    "        elif user_input == '3':\n",
    "            #check balance\n",
    "            self.check_bal()\n",
    "        \n",
    "        \n",
    "        elif user_input == '4':\n",
    "            #withdarw\n",
    "            self.withdraw()        \n",
    "        \n",
    "        else:\n",
    "            self.exit()\n",
    "    \n",
    "    # create new pin\n",
    "    def create_pin(self):\n",
    "        user_pin = input(\"Enter your pin : \")\n",
    "\n",
    "        self.pin = user_pin\n",
    "\n",
    "        #setting user bal by taking the input\n",
    "        user_bal = int(input(\"enter your balance :\"))\n",
    "\n",
    "        self.__balance = user_bal\n",
    "        print(\"pin created successfully\")\n",
    "        #calling the menu\n",
    "        self.__menu()\n",
    "\n",
    "    #change pin function\n",
    "    def change_pin(self):\n",
    "        old_pin = input(\"Enter old pin\")\n",
    "\n",
    "        if old_pin == self.pin:\n",
    "            #let him change the pin\n",
    "            new_pin = input('Enter new Pin')\n",
    "            self.pin = new_pin\n",
    "            print(\"pin changed successfully\")\n",
    "            self.__menu()\n",
    "        else:\n",
    "            print('invalid pin')\n",
    "            #self.__menu()\n",
    "\n",
    "    # check balance\n",
    "    def check_bal(self):\n",
    "        user_pin = input(\"enter your pin\")\n",
    "\n",
    "        if user_pin == self.pin:\n",
    "            print(\"your balance is : \" + self.__balance)\n",
    "        else:\n",
    "            print(\"you Entered the wrong pin . please enter the pin correctly and try again\")\n",
    "\n",
    "    # withdraw function -\n",
    "    #  koi bhi method class k likhe kisi bhi method ko call nahi kr skta. Ye kaam sirf object hi kr skta hai.\n",
    "    def withdraw(self):\n",
    "        user_pin  = input(\"Enter the pin\")\n",
    "        if user_pin == self.pin:\n",
    "            #allow to withdraw\n",
    "            amount = int(input('enter the amount'))\n",
    "            #checking sufficient bal or not\n",
    "            if amount <= self.__balance:\n",
    "                self.__balance = self.__balance - amount\n",
    "                print(\"withdrawl successsful\")\n",
    "                print(\"your balance after withdrawl is :\", self.__balance)\n",
    "            else:\n",
    "                print(\"insufficient funds\")\n",
    "        else:\n",
    "            print(\"password incorrect\")\n",
    "\n",
    "        #calling the menu\n",
    "        self.__menu()\n",
    "\n",
    "    #exit function\n",
    "    def exit(self):\n",
    "        pass"
   ]
  },
  {
   "cell_type": "code",
   "execution_count": 31,
   "metadata": {},
   "outputs": [],
   "source": [
    "obj = Atm()"
   ]
  },
  {
   "cell_type": "code",
   "execution_count": 32,
   "metadata": {},
   "outputs": [
    {
     "data": {
      "text/plain": [
       "0"
      ]
     },
     "execution_count": 32,
     "metadata": {},
     "output_type": "execute_result"
    }
   ],
   "source": [
    "obj.get_bal()"
   ]
  },
  {
   "cell_type": "code",
   "execution_count": 33,
   "metadata": {},
   "outputs": [
    {
     "name": "stdout",
     "output_type": "stream",
     "text": [
      "kripya sahi value dale\n"
     ]
    }
   ],
   "source": [
    "obj.set_bal('heheheheh')"
   ]
  },
  {
   "cell_type": "code",
   "execution_count": 34,
   "metadata": {},
   "outputs": [],
   "source": [
    "obj.set_bal(10000)"
   ]
  },
  {
   "cell_type": "code",
   "execution_count": 35,
   "metadata": {},
   "outputs": [
    {
     "data": {
      "text/plain": [
       "10000"
      ]
     },
     "execution_count": 35,
     "metadata": {},
     "output_type": "execute_result"
    }
   ],
   "source": [
    "obj.get_bal()"
   ]
  },
  {
   "cell_type": "markdown",
   "metadata": {},
   "source": [
    "    make all your data attributes private and expose them in real world through getters and setters(also write the checks in the setters) so that no one change the code base.\n",
    "\n",
    "    yahi jrurat hai Encapsulation ki."
   ]
  },
  {
   "cell_type": "markdown",
   "metadata": {},
   "source": []
  },
  {
   "cell_type": "markdown",
   "metadata": {},
   "source": [
    "    Collections of objects : "
   ]
  },
  {
   "cell_type": "code",
   "execution_count": 36,
   "metadata": {},
   "outputs": [],
   "source": [
    "class Person:\n",
    "    def __init__(self, name_inp, country_inp):\n",
    "        # intstance variable => name and country -> aisa var jiski value alag alag object k liye alg lag hota hai\n",
    "        self.name = name_inp\n",
    "        self.country = country_inp\n",
    "\n",
    "\n",
    "p1 = Person('Nitish', 'India')\n",
    "p2 = Person('Steve', 'USA')\n",
    "p3 = Person('Ajeet', 'France')"
   ]
  },
  {
   "cell_type": "code",
   "execution_count": 37,
   "metadata": {},
   "outputs": [
    {
     "name": "stdout",
     "output_type": "stream",
     "text": [
      "[<__main__.Person object at 0x000001FE134AC4A0>, <__main__.Person object at 0x000001FE134AF4D0>, <__main__.Person object at 0x000001FE134ADFA0>]\n"
     ]
    }
   ],
   "source": [
    "# storing the objects in the list\n",
    "l = [p1, p2, p3]\n",
    "\n",
    "# printing list => adress of all list objects\n",
    "print(l)\n",
    "\n"
   ]
  },
  {
   "cell_type": "code",
   "execution_count": 41,
   "metadata": {},
   "outputs": [
    {
     "name": "stdout",
     "output_type": "stream",
     "text": [
      "<__main__.Person object at 0x000001FE134AC4A0>\n",
      "Nitish\n",
      "<__main__.Person object at 0x000001FE134AF4D0>\n",
      "Steve\n",
      "<__main__.Person object at 0x000001FE134ADFA0>\n",
      "Ajeet\n"
     ]
    }
   ],
   "source": [
    "for i in l:\n",
    "    print(i)\n",
    "    print(i.name)"
   ]
  },
  {
   "cell_type": "code",
   "execution_count": 46,
   "metadata": {},
   "outputs": [],
   "source": [
    "# DICTIONARY OF OBJECTS\n",
    "d = {'p1':p1, 'p2':p2, 'p3':p3}"
   ]
  },
  {
   "cell_type": "code",
   "execution_count": 48,
   "metadata": {},
   "outputs": [
    {
     "name": "stdout",
     "output_type": "stream",
     "text": [
      "<__main__.Person object at 0x000001FE134AC4A0>\n",
      "Nitish\n",
      "<__main__.Person object at 0x000001FE134AF4D0>\n",
      "Steve\n",
      "<__main__.Person object at 0x000001FE134ADFA0>\n",
      "Ajeet\n"
     ]
    }
   ],
   "source": [
    "for i in d:\n",
    "    print(d[i])\n",
    "    print(d[i].name)"
   ]
  },
  {
   "cell_type": "markdown",
   "metadata": {},
   "source": [
    "    Static variables : "
   ]
  },
  {
   "cell_type": "code",
   "execution_count": null,
   "metadata": {},
   "outputs": [],
   "source": [
    "# need for static variable - let's assume you have to implement a separate customer id for each customer"
   ]
  },
  {
   "cell_type": "code",
   "execution_count": 6,
   "metadata": {},
   "outputs": [],
   "source": [
    "\n",
    "import sys\n",
    "class Atm:\n",
    "    \n",
    "    def __init__(self):\n",
    "        \n",
    "        self.pin = ''\n",
    "        # making balance private => so that junior mujhe company se nikwa de\n",
    "        self.__balance = 0\n",
    "        self.__menu()\n",
    "\n",
    "        #applying customer id\n",
    "        self.cid = 0\n",
    "        # increment\n",
    "        self.cid +=1\n",
    "\n",
    "    # making menu() method private   \n",
    "    def __menu(self):\n",
    "       \n",
    "\n",
    "        user_input = input(\"\"\"\n",
    "        1. press 1 to create pin\n",
    "        2. press 2 to change pin\n",
    "        3. press 3 to check balance\n",
    "        4. press 4 to withdraw money\n",
    "        5. Anything to exit\"\"\")\n",
    "        \n",
    "        \n",
    "        if user_input == '1':\n",
    "            # creating pin\n",
    "            self.create_pin()\n",
    "        \n",
    "        \n",
    "        elif user_input == '2':\n",
    "            #change pin\n",
    "            self.change_pin()\n",
    "            \n",
    "        \n",
    "        elif user_input == '3':\n",
    "            #check balance\n",
    "            self.check_bal()\n",
    "        \n",
    "        \n",
    "        elif user_input == '4':\n",
    "            #withdarw\n",
    "            self.withdraw()        \n",
    "        \n",
    "        else:\n",
    "            self.exit()\n",
    "    \n",
    "    # create new pin\n",
    "    def create_pin(self):\n",
    "        user_pin = input(\"Enter your pin : \")\n",
    "\n",
    "        self.pin = user_pin\n",
    "\n",
    "        #setting user bal by taking the input\n",
    "        user_bal = int(input(\"enter your balance :\"))\n",
    "\n",
    "        self.__balance = user_bal\n",
    "        print(\"pin created successfully\")\n",
    "        #calling the menu\n",
    "        self.__menu()\n",
    "\n",
    "    #change pin function\n",
    "    def change_pin(self):\n",
    "        old_pin = input(\"Enter old pin\")\n",
    "\n",
    "        if old_pin == self.pin:\n",
    "            #let him change the pin\n",
    "            new_pin = input('Enter new Pin')\n",
    "            self.pin = new_pin\n",
    "            print(\"pin changed successfully\")\n",
    "            self.__menu()\n",
    "        else:\n",
    "            print('invalid pin')\n",
    "            #self.__menu()\n",
    "\n",
    "    # check balance\n",
    "    def check_bal(self):\n",
    "        user_pin = input(\"enter your pin\")\n",
    "\n",
    "        if user_pin == self.pin:\n",
    "            print(\"your balance is : \" + self.__balance)\n",
    "        else:\n",
    "            print(\"you Entered the wrong pin . please enter the pin correctly and try again\")\n",
    "\n",
    "    # withdraw function -\n",
    "    #  koi bhi method class k likhe kisi bhi method ko call nahi kr skta. Ye kaam sirf object hi kr skta hai.\n",
    "    def withdraw(self):\n",
    "        user_pin  = input(\"Enter the pin\")\n",
    "        if user_pin == self.pin:\n",
    "            #allow to withdraw\n",
    "            amount = int(input('enter the amount'))\n",
    "            #checking sufficient bal or not\n",
    "            if amount <= self.__balance:\n",
    "                self.__balance = self.__balance - amount\n",
    "                print(\"withdrawl successsful\")\n",
    "                print(\"your balance after withdrawl is :\", self.__balance)\n",
    "            else:\n",
    "                print(\"insufficient funds\")\n",
    "        else:\n",
    "            print(\"password incorrect\")\n",
    "\n",
    "        #calling the menu\n",
    "        self.__menu()\n",
    "\n",
    "    #exit function\n",
    "    def exit(self):\n",
    "        pass"
   ]
  },
  {
   "cell_type": "code",
   "execution_count": 7,
   "metadata": {},
   "outputs": [],
   "source": [
    "a1 = Atm()\n",
    "a2 = Atm()\n",
    "\n",
    "a3 = Atm()"
   ]
  },
  {
   "cell_type": "code",
   "execution_count": 8,
   "metadata": {},
   "outputs": [
    {
     "data": {
      "text/plain": [
       "1"
      ]
     },
     "execution_count": 8,
     "metadata": {},
     "output_type": "execute_result"
    }
   ],
   "source": [
    "a1.cid"
   ]
  },
  {
   "cell_type": "code",
   "execution_count": 9,
   "metadata": {},
   "outputs": [
    {
     "data": {
      "text/plain": [
       "1"
      ]
     },
     "execution_count": 9,
     "metadata": {},
     "output_type": "execute_result"
    }
   ],
   "source": [
    "a2.cid"
   ]
  },
  {
   "cell_type": "code",
   "execution_count": 10,
   "metadata": {},
   "outputs": [
    {
     "data": {
      "text/plain": [
       "1"
      ]
     },
     "execution_count": 10,
     "metadata": {},
     "output_type": "execute_result"
    }
   ],
   "source": [
    "# right now cid ek instance variable hai isiliye cid increase nahi ho raha\n",
    "# instance variable har object ke liye independent hote hain\n",
    "a3.cid"
   ]
  },
  {
   "cell_type": "markdown",
   "metadata": {},
   "source": [
    "1. because instance variable 'object' ka hota hai whereas static varable 'class' ka variable hota hai  \n",
    "2. instance variable har object ke liye independent(alag) hote hain, static variable har object ke liye same hota hai. "
   ]
  },
  {
   "cell_type": "code",
   "execution_count": 24,
   "metadata": {},
   "outputs": [],
   "source": [
    "\n",
    "import sys\n",
    "class Atm:\n",
    "    # static method writing area => all the way at the top\n",
    "    __counter = 1\n",
    "    \n",
    "    def __init__(self):\n",
    "        \n",
    "        self.pin = ''\n",
    "        # making balance private => so that junior mujhe company se nikwa de\n",
    "        self.__balance = 0\n",
    "        self.__menu()\n",
    "\n",
    "        #applying customer id\n",
    "        self.cid = Atm.__counter\n",
    "        # increment\n",
    "        Atm.__counter = Atm.__counter +1\n",
    "        \n",
    "    # only method which can not have self => Now you can not access it using object reference\n",
    "    # You have to use className.function_name\n",
    "    # use decorator to show that it is static\n",
    "    # these are called utility function which does not require to create an object\n",
    "    @staticmethod\n",
    "    def get_counter():\n",
    "        return Atm.__counter    \n",
    "\n",
    "    # making menu() method private   \n",
    "    def __menu(self):\n",
    "       \n",
    "\n",
    "        user_input = input(\"\"\"\n",
    "        1. press 1 to create pin\n",
    "        2. press 2 to change pin\n",
    "        3. press 3 to check balance\n",
    "        4. press 4 to withdraw money\n",
    "        5. Anything to exit\"\"\")\n",
    "        \n",
    "        \n",
    "        if user_input == '1':\n",
    "            # creating pin\n",
    "            self.create_pin()\n",
    "        \n",
    "        \n",
    "        elif user_input == '2':\n",
    "            #change pin\n",
    "            self.change_pin()\n",
    "            \n",
    "        \n",
    "        elif user_input == '3':\n",
    "            #check balance\n",
    "            self.check_bal()\n",
    "        \n",
    "        \n",
    "        elif user_input == '4':\n",
    "            #withdarw\n",
    "            self.withdraw()        \n",
    "        \n",
    "        else:\n",
    "            self.exit()\n",
    "    \n",
    "    # create new pin\n",
    "    def create_pin(self):\n",
    "        user_pin = input(\"Enter your pin : \")\n",
    "\n",
    "        self.pin = user_pin\n",
    "\n",
    "        #setting user bal by taking the input\n",
    "        user_bal = int(input(\"enter your balance :\"))\n",
    "\n",
    "        self.__balance = user_bal\n",
    "        print(\"pin created successfully\")\n",
    "        #calling the menu\n",
    "        self.__menu()\n",
    "\n",
    "    #change pin function\n",
    "    def change_pin(self):\n",
    "        old_pin = input(\"Enter old pin\")\n",
    "\n",
    "        if old_pin == self.pin:\n",
    "            #let him change the pin\n",
    "            new_pin = input('Enter new Pin')\n",
    "            self.pin = new_pin\n",
    "            print(\"pin changed successfully\")\n",
    "            self.__menu()\n",
    "        else:\n",
    "            print('invalid pin')\n",
    "            #self.__menu()\n",
    "\n",
    "    # check balance\n",
    "    def check_bal(self):\n",
    "        user_pin = input(\"enter your pin\")\n",
    "\n",
    "        if user_pin == self.pin:\n",
    "            print(\"your balance is : \" + self.__balance)\n",
    "        else:\n",
    "            print(\"you Entered the wrong pin . please enter the pin correctly and try again\")\n",
    "\n",
    "    # withdraw function -\n",
    "    #  koi bhi method class k likhe kisi bhi method ko call nahi kr skta. Ye kaam sirf object hi kr skta hai.\n",
    "    def withdraw(self):\n",
    "        user_pin  = input(\"Enter the pin\")\n",
    "        if user_pin == self.pin:\n",
    "            #allow to withdraw\n",
    "            amount = int(input('enter the amount'))\n",
    "            #checking sufficient bal or not\n",
    "            if amount <= self.__balance:\n",
    "                self.__balance = self.__balance - amount\n",
    "                print(\"withdrawl successsful\")\n",
    "                print(\"your balance after withdrawl is :\", self.__balance)\n",
    "            else:\n",
    "                print(\"insufficient funds\")\n",
    "        else:\n",
    "            print(\"password incorrect\")\n",
    "\n",
    "        #calling the menu\n",
    "        self.__menu()\n",
    "\n",
    "    #exit function\n",
    "    def exit(self):\n",
    "        pass"
   ]
  },
  {
   "cell_type": "code",
   "execution_count": 12,
   "metadata": {},
   "outputs": [],
   "source": [
    "a1 = Atm()\n",
    "a2 = Atm()\n",
    "\n",
    "a3 = Atm()"
   ]
  },
  {
   "cell_type": "code",
   "execution_count": 13,
   "metadata": {},
   "outputs": [
    {
     "data": {
      "text/plain": [
       "1"
      ]
     },
     "execution_count": 13,
     "metadata": {},
     "output_type": "execute_result"
    }
   ],
   "source": [
    "\n",
    "# acessing the static variable\n",
    "a1.cid"
   ]
  },
  {
   "cell_type": "code",
   "execution_count": 14,
   "metadata": {},
   "outputs": [
    {
     "data": {
      "text/plain": [
       "2"
      ]
     },
     "execution_count": 14,
     "metadata": {},
     "output_type": "execute_result"
    }
   ],
   "source": [
    "a2.cid"
   ]
  },
  {
   "cell_type": "code",
   "execution_count": 15,
   "metadata": {},
   "outputs": [
    {
     "data": {
      "text/plain": [
       "3"
      ]
     },
     "execution_count": 15,
     "metadata": {},
     "output_type": "execute_result"
    }
   ],
   "source": [
    "a3.cid"
   ]
  },
  {
   "cell_type": "code",
   "execution_count": 19,
   "metadata": {},
   "outputs": [],
   "source": [
    "# junior ki galti\n",
    "Atm.counter = 'hehehehe'"
   ]
  },
  {
   "cell_type": "code",
   "execution_count": 21,
   "metadata": {},
   "outputs": [
    {
     "ename": "TypeError",
     "evalue": "can only concatenate str (not \"int\") to str",
     "output_type": "error",
     "traceback": [
      "\u001b[1;31m---------------------------------------------------------------------------\u001b[0m",
      "\u001b[1;31mTypeError\u001b[0m                                 Traceback (most recent call last)",
      "Cell \u001b[1;32mIn[21], line 1\u001b[0m\n\u001b[1;32m----> 1\u001b[0m a4 \u001b[38;5;241m=\u001b[39m \u001b[43mAtm\u001b[49m\u001b[43m(\u001b[49m\u001b[43m)\u001b[49m\n",
      "Cell \u001b[1;32mIn[11], line 16\u001b[0m, in \u001b[0;36mAtm.__init__\u001b[1;34m(self)\u001b[0m\n\u001b[0;32m     14\u001b[0m \u001b[38;5;28mself\u001b[39m\u001b[38;5;241m.\u001b[39mcid \u001b[38;5;241m=\u001b[39m Atm\u001b[38;5;241m.\u001b[39mcounter\n\u001b[0;32m     15\u001b[0m \u001b[38;5;66;03m# increment\u001b[39;00m\n\u001b[1;32m---> 16\u001b[0m Atm\u001b[38;5;241m.\u001b[39mcounter \u001b[38;5;241m=\u001b[39m \u001b[43mAtm\u001b[49m\u001b[38;5;241;43m.\u001b[39;49m\u001b[43mcounter\u001b[49m\u001b[43m \u001b[49m\u001b[38;5;241;43m+\u001b[39;49m\u001b[38;5;241;43m1\u001b[39;49m\n",
      "\u001b[1;31mTypeError\u001b[0m: can only concatenate str (not \"int\") to str"
     ]
    }
   ],
   "source": [
    "# uska nateeja, so make it private\n",
    "a4 = Atm()"
   ]
  },
  {
   "cell_type": "code",
   "execution_count": 25,
   "metadata": {},
   "outputs": [
    {
     "ename": "AttributeError",
     "evalue": "'Atm' object has no attribute 'get_counter'",
     "output_type": "error",
     "traceback": [
      "\u001b[1;31m---------------------------------------------------------------------------\u001b[0m",
      "\u001b[1;31mAttributeError\u001b[0m                            Traceback (most recent call last)",
      "Cell \u001b[1;32mIn[25], line 1\u001b[0m\n\u001b[1;32m----> 1\u001b[0m \u001b[43ma3\u001b[49m\u001b[38;5;241;43m.\u001b[39;49m\u001b[43mget_counter\u001b[49m()\n",
      "\u001b[1;31mAttributeError\u001b[0m: 'Atm' object has no attribute 'get_counter'"
     ]
    }
   ],
   "source": [
    "a3.get_counter()"
   ]
  },
  {
   "cell_type": "code",
   "execution_count": 26,
   "metadata": {},
   "outputs": [
    {
     "data": {
      "text/plain": [
       "1"
      ]
     },
     "execution_count": 26,
     "metadata": {},
     "output_type": "execute_result"
    }
   ],
   "source": [
    "Atm.get_counter()"
   ]
  },
  {
   "cell_type": "markdown",
   "metadata": {},
   "source": [
    "    Static variable ke pehchan ka tareeka => classname.var -> static variable\n",
    "    Instance variable ke pehchan ka tareeka => self.varName -> instance variable                            "
   ]
  }
 ],
 "metadata": {
  "kernelspec": {
   "display_name": "Python 3",
   "language": "python",
   "name": "python3"
  },
  "language_info": {
   "codemirror_mode": {
    "name": "ipython",
    "version": 3
   },
   "file_extension": ".py",
   "mimetype": "text/x-python",
   "name": "python",
   "nbconvert_exporter": "python",
   "pygments_lexer": "ipython3",
   "version": "3.12.4"
  }
 },
 "nbformat": 4,
 "nbformat_minor": 2
}
