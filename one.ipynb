{
 "cells": [
  {
   "cell_type": "code",
   "execution_count": 1,
   "metadata": {},
   "outputs": [
    {
     "ename": "AttributeError",
     "evalue": "'list' object has no attribute 'upper'",
     "output_type": "error",
     "traceback": [
      "\u001b[1;31m---------------------------------------------------------------------------\u001b[0m",
      "\u001b[1;31mAttributeError\u001b[0m                            Traceback (most recent call last)",
      "Cell \u001b[1;32mIn[1], line 2\u001b[0m\n\u001b[0;32m      1\u001b[0m l \u001b[38;5;241m=\u001b[39m [\u001b[38;5;241m1\u001b[39m,\u001b[38;5;241m2\u001b[39m,\u001b[38;5;241m3\u001b[39m]\n\u001b[1;32m----> 2\u001b[0m \u001b[43ml\u001b[49m\u001b[38;5;241;43m.\u001b[39;49m\u001b[43mupper\u001b[49m()\n",
      "\u001b[1;31mAttributeError\u001b[0m: 'list' object has no attribute 'upper'"
     ]
    }
   ],
   "source": [
    "l = [1,2,3]\n",
    "# list does not have an attribute called upper()\n",
    "l.upper()"
   ]
  },
  {
   "cell_type": "code",
   "execution_count": 2,
   "metadata": {},
   "outputs": [
    {
     "ename": "AttributeError",
     "evalue": "'str' object has no attribute 'append'",
     "output_type": "error",
     "traceback": [
      "\u001b[1;31m---------------------------------------------------------------------------\u001b[0m",
      "\u001b[1;31mAttributeError\u001b[0m                            Traceback (most recent call last)",
      "Cell \u001b[1;32mIn[2], line 2\u001b[0m\n\u001b[0;32m      1\u001b[0m s \u001b[38;5;241m=\u001b[39m \u001b[38;5;124m'\u001b[39m\u001b[38;5;124mhello\u001b[39m\u001b[38;5;124m'\u001b[39m\n\u001b[1;32m----> 2\u001b[0m \u001b[43ms\u001b[49m\u001b[38;5;241;43m.\u001b[39;49m\u001b[43mappend\u001b[49m(\u001b[38;5;124m'\u001b[39m\u001b[38;5;124mx\u001b[39m\u001b[38;5;124m'\u001b[39m)\n",
      "\u001b[1;31mAttributeError\u001b[0m: 'str' object has no attribute 'append'"
     ]
    }
   ],
   "source": [
    "s = 'hello'\n",
    "# str does not have an attribute called append()\n",
    "s.append('x')"
   ]
  },
  {
   "cell_type": "markdown",
   "metadata": {},
   "source": [
    "    everything in python is object."
   ]
  },
  {
   "cell_type": "markdown",
   "metadata": {},
   "source": [
    "    oop gives the programmer to create his own data type."
   ]
  },
  {
   "cell_type": "markdown",
   "metadata": {},
   "source": [
    "    OOP Concepts:\n",
    "1. object\n",
    "2. classes\n",
    "3. Polymorphism\n",
    "4. encapsulation\n",
    "5. abstraction\n",
    "6. inheritance"
   ]
  },
  {
   "cell_type": "markdown",
   "metadata": {},
   "source": [
    "    class - class is a blueprint of an object."
   ]
  },
  {
   "cell_type": "markdown",
   "metadata": {},
   "source": [
    "    Object - Object is an instantiation of class"
   ]
  },
  {
   "cell_type": "code",
   "execution_count": 4,
   "metadata": {},
   "outputs": [
    {
     "name": "stdout",
     "output_type": "stream",
     "text": [
      "<class 'list'>\n"
     ]
    }
   ],
   "source": [
    "print(type(l))"
   ]
  },
  {
   "cell_type": "code",
   "execution_count": 5,
   "metadata": {},
   "outputs": [
    {
     "data": {
      "text/plain": [
       "list"
      ]
     },
     "execution_count": 5,
     "metadata": {},
     "output_type": "execute_result"
    }
   ],
   "source": [
    "type(l)"
   ]
  },
  {
   "cell_type": "code",
   "execution_count": 6,
   "metadata": {},
   "outputs": [
    {
     "data": {
      "text/plain": [
       "3"
      ]
     },
     "execution_count": 6,
     "metadata": {},
     "output_type": "execute_result"
    }
   ],
   "source": [
    "l.pop()"
   ]
  },
  {
   "cell_type": "code",
   "execution_count": 7,
   "metadata": {},
   "outputs": [
    {
     "data": {
      "text/plain": [
       "[1, 2]"
      ]
     },
     "execution_count": 7,
     "metadata": {},
     "output_type": "execute_result"
    }
   ],
   "source": [
    "# list is a object literal\n",
    "l"
   ]
  },
  {
   "cell_type": "markdown",
   "metadata": {},
   "source": [
    "    class has:\n",
    "    1. Data/ property/attribute\n",
    "    2. functions/behaviour"
   ]
  },
  {
   "cell_type": "markdown",
   "metadata": {},
   "source": [
    "    there are two types of classes in python - user-defined and built-in classes"
   ]
  },
  {
   "cell_type": "code",
   "execution_count": 10,
   "metadata": {},
   "outputs": [],
   "source": [
    "# syntax to create an object\n",
    "# object_name = class_name()\n",
    "lis = list()"
   ]
  },
  {
   "cell_type": "code",
   "execution_count": 11,
   "metadata": {},
   "outputs": [],
   "source": [
    "str = str()"
   ]
  },
  {
   "cell_type": "markdown",
   "metadata": {},
   "source": [
    "    Creating a code for atm machine"
   ]
  },
  {
   "cell_type": "code",
   "execution_count": 21,
   "metadata": {},
   "outputs": [],
   "source": [
    "# use pascal case for writing class name - 'HelloWorld'\n",
    "class Atm:\n",
    "\n",
    "\n",
    "    #constructor - a special func inside a class\n",
    "    def __init__(self):\n",
    "        print('object craeted')\n",
    "        #creating a variable in class -use self in front of variable and write it in the constructor\n",
    "        self.pin = ''\n",
    "        self.balance = 0\n",
    "\n"
   ]
  },
  {
   "cell_type": "code",
   "execution_count": 22,
   "metadata": {},
   "outputs": [
    {
     "name": "stdout",
     "output_type": "stream",
     "text": [
      "object craeted\n"
     ]
    }
   ],
   "source": [
    "obj = Atm()"
   ]
  },
  {
   "cell_type": "code",
   "execution_count": 23,
   "metadata": {},
   "outputs": [
    {
     "name": "stdout",
     "output_type": "stream",
     "text": [
      "object craeted\n"
     ]
    }
   ],
   "source": [
    "obj2 = Atm()"
   ]
  },
  {
   "cell_type": "code",
   "execution_count": 18,
   "metadata": {},
   "outputs": [
    {
     "name": "stdout",
     "output_type": "stream",
     "text": [
      "<class '__main__.Atm'>\n"
     ]
    }
   ],
   "source": [
    "print(type(obj))"
   ]
  },
  {
   "cell_type": "code",
   "execution_count": 26,
   "metadata": {},
   "outputs": [],
   "source": [
    "# use pascal case for writing class name - 'HelloWorld'\n",
    "class Atm:\n",
    "\n",
    "\n",
    "    #executes without call\n",
    "    def __init__(self):\n",
    "        \n",
    "        self.pin = ''\n",
    "        self.balance = 0\n",
    "        self.menu()\n",
    "\n",
    "\n",
    "        \n",
    "    def menu(self):\n",
    "        user_input = input(\"\"\"\n",
    "        1. press 1 to create pin\n",
    "        2. press 2 to change pin\n",
    "        3. press 3 to check balance\n",
    "        4. press 4 to withdraw money\n",
    "        5. Anything to exit\n",
    "\n",
    "        \"\"\")"
   ]
  },
  {
   "cell_type": "code",
   "execution_count": 28,
   "metadata": {},
   "outputs": [],
   "source": [
    "obj = Atm()"
   ]
  },
  {
   "cell_type": "code",
   "execution_count": 36,
   "metadata": {},
   "outputs": [],
   "source": [
    "# use pascal case for writing class name - 'HelloWorld'\n",
    "class Atm:\n",
    "    #koi bhi method and variable banate samay apko self keyword ka use krna pdega\n",
    "\n",
    "    #executes without call\n",
    "    def __init__(self):\n",
    "        \n",
    "        self.pin = ''\n",
    "        self.balance = 0\n",
    "        self.menu()\n",
    "\n",
    "\n",
    "        \n",
    "    def menu(self):\n",
    "       \n",
    "\n",
    "        user_input = input(\"\"\"\n",
    "        1. press 1 to create pin\n",
    "        2. press 2 to change pin\n",
    "        3. press 3 to check balance\n",
    "        4. press 4 to withdraw money\n",
    "        5. Anything to exit\"\"\")\n",
    "        \n",
    "        \n",
    "        if user_input == '1':\n",
    "            self.create_pin()\n",
    "        \n",
    "        \n",
    "        elif user_input == '2':\n",
    "            pass\n",
    "            #change pin\n",
    "        \n",
    "        elif user_input == '3':\n",
    "            pass\n",
    "            #check balance\n",
    "        \n",
    "        \n",
    "        elif user_input == '4':\n",
    "            pass\n",
    "            #withdarw\n",
    "        \n",
    "        \n",
    "        else:\n",
    "            exit()\n",
    "\n",
    "    def create_pin(self):\n",
    "        user_pin = input(\"Enter your pin : \")\n",
    "\n",
    "        self.pin = user_pin\n",
    "\n",
    "        #setting user bal by taking the input\n",
    "        user_bal = int(input(\"enter your balance :\"))\n",
    "\n",
    "        self.balance = user_bal\n",
    "        print(\"pin created successfully\")\n"
   ]
  },
  {
   "cell_type": "code",
   "execution_count": 37,
   "metadata": {},
   "outputs": [
    {
     "name": "stdout",
     "output_type": "stream",
     "text": [
      "pin created successfully\n"
     ]
    }
   ],
   "source": [
    "obj = Atm()"
   ]
  },
  {
   "cell_type": "code",
   "execution_count": 42,
   "metadata": {},
   "outputs": [],
   "source": [
    "# use pascal case for writing class name - 'HelloWorld'\n",
    "class Atm:\n",
    "    #koi bhi method and variable banate samay apko self keyword ka use krna pdega\n",
    "\n",
    "    #executes without call\n",
    "    def __init__(self):\n",
    "        \n",
    "        self.pin = ''\n",
    "        self.balance = 0\n",
    "        self.menu()\n",
    "\n",
    "\n",
    "        \n",
    "    def menu(self):\n",
    "       \n",
    "\n",
    "        user_input = input(\"\"\"\n",
    "        1. press 1 to create pin\n",
    "        2. press 2 to change pin\n",
    "        3. press 3 to check balance\n",
    "        4. press 4 to withdraw money\n",
    "        5. Anything to exit\"\"\")\n",
    "        \n",
    "        \n",
    "        if user_input == '1':\n",
    "            # creating pin\n",
    "            self.create_pin()\n",
    "        \n",
    "        \n",
    "        elif user_input == '2':\n",
    "            #change pin\n",
    "            self.change_pin()\n",
    "            \n",
    "        \n",
    "        elif user_input == '3':\n",
    "            pass\n",
    "            #check balance\n",
    "        \n",
    "        \n",
    "        elif user_input == '4':\n",
    "            pass\n",
    "            #withdarw\n",
    "        \n",
    "        \n",
    "        else:\n",
    "            exit()\n",
    "\n",
    "    def create_pin(self):\n",
    "        user_pin = input(\"Enter your pin : \")\n",
    "\n",
    "        self.pin = user_pin\n",
    "\n",
    "        #setting user bal by taking the input\n",
    "        user_bal = int(input(\"enter your balance :\"))\n",
    "\n",
    "        self.balance = user_bal\n",
    "        print(\"pin created successfully\")\n",
    "        #calling the menu\n",
    "        self.menu()\n",
    "\n",
    "    #change pin function\n",
    "    def change_pin(self):\n",
    "        old_pin = input(\"Enter old pin\")\n",
    "\n",
    "        if old_pin == self.pin:\n",
    "            #let him change the pin\n",
    "            new_pin = input('Enter new Pin')\n",
    "            self.pin = new_pin\n",
    "            print(\"pin changed successfully\")\n",
    "            self.menu()\n",
    "        else:\n",
    "            print('invalid pin')\n",
    "            self.menu()"
   ]
  },
  {
   "cell_type": "code",
   "execution_count": 43,
   "metadata": {},
   "outputs": [
    {
     "name": "stdout",
     "output_type": "stream",
     "text": [
      "pin created successfully\n",
      "invalid pin\n"
     ]
    },
    {
     "ename": "KeyboardInterrupt",
     "evalue": "Interrupted by user",
     "output_type": "error",
     "traceback": [
      "\u001b[1;31m---------------------------------------------------------------------------\u001b[0m",
      "\u001b[1;31mKeyboardInterrupt\u001b[0m                         Traceback (most recent call last)",
      "Cell \u001b[1;32mIn[43], line 1\u001b[0m\n\u001b[1;32m----> 1\u001b[0m obj \u001b[38;5;241m=\u001b[39m \u001b[43mAtm\u001b[49m\u001b[43m(\u001b[49m\u001b[43m)\u001b[49m\n",
      "Cell \u001b[1;32mIn[42], line 10\u001b[0m, in \u001b[0;36mAtm.__init__\u001b[1;34m(self)\u001b[0m\n\u001b[0;32m      8\u001b[0m \u001b[38;5;28mself\u001b[39m\u001b[38;5;241m.\u001b[39mpin \u001b[38;5;241m=\u001b[39m \u001b[38;5;124m'\u001b[39m\u001b[38;5;124m'\u001b[39m\n\u001b[0;32m      9\u001b[0m \u001b[38;5;28mself\u001b[39m\u001b[38;5;241m.\u001b[39mbalance \u001b[38;5;241m=\u001b[39m \u001b[38;5;241m0\u001b[39m\n\u001b[1;32m---> 10\u001b[0m \u001b[38;5;28;43mself\u001b[39;49m\u001b[38;5;241;43m.\u001b[39;49m\u001b[43mmenu\u001b[49m\u001b[43m(\u001b[49m\u001b[43m)\u001b[49m\n",
      "Cell \u001b[1;32mIn[42], line 27\u001b[0m, in \u001b[0;36mAtm.menu\u001b[1;34m(self)\u001b[0m\n\u001b[0;32m     17\u001b[0m user_input \u001b[38;5;241m=\u001b[39m \u001b[38;5;28minput\u001b[39m(\u001b[38;5;124m\"\"\"\u001b[39m\n\u001b[0;32m     18\u001b[0m \u001b[38;5;124m1. press 1 to create pin\u001b[39m\n\u001b[0;32m     19\u001b[0m \u001b[38;5;124m2. press 2 to change pin\u001b[39m\n\u001b[0;32m     20\u001b[0m \u001b[38;5;124m3. press 3 to check balance\u001b[39m\n\u001b[0;32m     21\u001b[0m \u001b[38;5;124m4. press 4 to withdraw money\u001b[39m\n\u001b[0;32m     22\u001b[0m \u001b[38;5;124m5. Anything to exit\u001b[39m\u001b[38;5;124m\"\"\"\u001b[39m)\n\u001b[0;32m     25\u001b[0m \u001b[38;5;28;01mif\u001b[39;00m user_input \u001b[38;5;241m==\u001b[39m \u001b[38;5;124m'\u001b[39m\u001b[38;5;124m1\u001b[39m\u001b[38;5;124m'\u001b[39m:\n\u001b[0;32m     26\u001b[0m     \u001b[38;5;66;03m# creating pin\u001b[39;00m\n\u001b[1;32m---> 27\u001b[0m     \u001b[38;5;28;43mself\u001b[39;49m\u001b[38;5;241;43m.\u001b[39;49m\u001b[43mcreate_pin\u001b[49m\u001b[43m(\u001b[49m\u001b[43m)\u001b[49m\n\u001b[0;32m     30\u001b[0m \u001b[38;5;28;01melif\u001b[39;00m user_input \u001b[38;5;241m==\u001b[39m \u001b[38;5;124m'\u001b[39m\u001b[38;5;124m2\u001b[39m\u001b[38;5;124m'\u001b[39m:\n\u001b[0;32m     31\u001b[0m     \u001b[38;5;66;03m#change pin\u001b[39;00m\n\u001b[0;32m     32\u001b[0m     \u001b[38;5;28mself\u001b[39m\u001b[38;5;241m.\u001b[39mchange_pin()\n",
      "Cell \u001b[1;32mIn[42], line 59\u001b[0m, in \u001b[0;36mAtm.create_pin\u001b[1;34m(self)\u001b[0m\n\u001b[0;32m     57\u001b[0m \u001b[38;5;28mprint\u001b[39m(\u001b[38;5;124m\"\u001b[39m\u001b[38;5;124mpin created successfully\u001b[39m\u001b[38;5;124m\"\u001b[39m)\n\u001b[0;32m     58\u001b[0m \u001b[38;5;66;03m#calling the menu\u001b[39;00m\n\u001b[1;32m---> 59\u001b[0m \u001b[38;5;28;43mself\u001b[39;49m\u001b[38;5;241;43m.\u001b[39;49m\u001b[43mmenu\u001b[49m\u001b[43m(\u001b[49m\u001b[43m)\u001b[49m\n",
      "Cell \u001b[1;32mIn[42], line 32\u001b[0m, in \u001b[0;36mAtm.menu\u001b[1;34m(self)\u001b[0m\n\u001b[0;32m     27\u001b[0m     \u001b[38;5;28mself\u001b[39m\u001b[38;5;241m.\u001b[39mcreate_pin()\n\u001b[0;32m     30\u001b[0m \u001b[38;5;28;01melif\u001b[39;00m user_input \u001b[38;5;241m==\u001b[39m \u001b[38;5;124m'\u001b[39m\u001b[38;5;124m2\u001b[39m\u001b[38;5;124m'\u001b[39m:\n\u001b[0;32m     31\u001b[0m     \u001b[38;5;66;03m#change pin\u001b[39;00m\n\u001b[1;32m---> 32\u001b[0m     \u001b[38;5;28;43mself\u001b[39;49m\u001b[38;5;241;43m.\u001b[39;49m\u001b[43mchange_pin\u001b[49m\u001b[43m(\u001b[49m\u001b[43m)\u001b[49m\n\u001b[0;32m     35\u001b[0m \u001b[38;5;28;01melif\u001b[39;00m user_input \u001b[38;5;241m==\u001b[39m \u001b[38;5;124m'\u001b[39m\u001b[38;5;124m3\u001b[39m\u001b[38;5;124m'\u001b[39m:\n\u001b[0;32m     36\u001b[0m     \u001b[38;5;28;01mpass\u001b[39;00m\n",
      "Cell \u001b[1;32mIn[42], line 73\u001b[0m, in \u001b[0;36mAtm.change_pin\u001b[1;34m(self)\u001b[0m\n\u001b[0;32m     71\u001b[0m \u001b[38;5;28;01melse\u001b[39;00m:\n\u001b[0;32m     72\u001b[0m     \u001b[38;5;28mprint\u001b[39m(\u001b[38;5;124m'\u001b[39m\u001b[38;5;124minvalid pin\u001b[39m\u001b[38;5;124m'\u001b[39m)\n\u001b[1;32m---> 73\u001b[0m     \u001b[38;5;28;43mself\u001b[39;49m\u001b[38;5;241;43m.\u001b[39;49m\u001b[43mmenu\u001b[49m\u001b[43m(\u001b[49m\u001b[43m)\u001b[49m\n",
      "Cell \u001b[1;32mIn[42], line 17\u001b[0m, in \u001b[0;36mAtm.menu\u001b[1;34m(self)\u001b[0m\n\u001b[0;32m     14\u001b[0m \u001b[38;5;28;01mdef\u001b[39;00m \u001b[38;5;21mmenu\u001b[39m(\u001b[38;5;28mself\u001b[39m):\n\u001b[1;32m---> 17\u001b[0m     user_input \u001b[38;5;241m=\u001b[39m \u001b[38;5;28;43minput\u001b[39;49m\u001b[43m(\u001b[49m\u001b[38;5;124;43m\"\"\"\u001b[39;49m\n\u001b[0;32m     18\u001b[0m \u001b[38;5;124;43m    1. press 1 to create pin\u001b[39;49m\n\u001b[0;32m     19\u001b[0m \u001b[38;5;124;43m    2. press 2 to change pin\u001b[39;49m\n\u001b[0;32m     20\u001b[0m \u001b[38;5;124;43m    3. press 3 to check balance\u001b[39;49m\n\u001b[0;32m     21\u001b[0m \u001b[38;5;124;43m    4. press 4 to withdraw money\u001b[39;49m\n\u001b[0;32m     22\u001b[0m \u001b[38;5;124;43m    5. Anything to exit\u001b[39;49m\u001b[38;5;124;43m\"\"\"\u001b[39;49m\u001b[43m)\u001b[49m\n\u001b[0;32m     25\u001b[0m     \u001b[38;5;28;01mif\u001b[39;00m user_input \u001b[38;5;241m==\u001b[39m \u001b[38;5;124m'\u001b[39m\u001b[38;5;124m1\u001b[39m\u001b[38;5;124m'\u001b[39m:\n\u001b[0;32m     26\u001b[0m         \u001b[38;5;66;03m# creating pin\u001b[39;00m\n\u001b[0;32m     27\u001b[0m         \u001b[38;5;28mself\u001b[39m\u001b[38;5;241m.\u001b[39mcreate_pin()\n",
      "File \u001b[1;32m~\\AppData\\Roaming\\Python\\Python312\\site-packages\\ipykernel\\kernelbase.py:1282\u001b[0m, in \u001b[0;36mKernel.raw_input\u001b[1;34m(self, prompt)\u001b[0m\n\u001b[0;32m   1280\u001b[0m     msg \u001b[38;5;241m=\u001b[39m \u001b[38;5;124m\"\u001b[39m\u001b[38;5;124mraw_input was called, but this frontend does not support input requests.\u001b[39m\u001b[38;5;124m\"\u001b[39m\n\u001b[0;32m   1281\u001b[0m     \u001b[38;5;28;01mraise\u001b[39;00m StdinNotImplementedError(msg)\n\u001b[1;32m-> 1282\u001b[0m \u001b[38;5;28;01mreturn\u001b[39;00m \u001b[38;5;28;43mself\u001b[39;49m\u001b[38;5;241;43m.\u001b[39;49m\u001b[43m_input_request\u001b[49m\u001b[43m(\u001b[49m\n\u001b[0;32m   1283\u001b[0m \u001b[43m    \u001b[49m\u001b[38;5;28;43mstr\u001b[39;49m\u001b[43m(\u001b[49m\u001b[43mprompt\u001b[49m\u001b[43m)\u001b[49m\u001b[43m,\u001b[49m\n\u001b[0;32m   1284\u001b[0m \u001b[43m    \u001b[49m\u001b[38;5;28;43mself\u001b[39;49m\u001b[38;5;241;43m.\u001b[39;49m\u001b[43m_parent_ident\u001b[49m\u001b[43m[\u001b[49m\u001b[38;5;124;43m\"\u001b[39;49m\u001b[38;5;124;43mshell\u001b[39;49m\u001b[38;5;124;43m\"\u001b[39;49m\u001b[43m]\u001b[49m\u001b[43m,\u001b[49m\n\u001b[0;32m   1285\u001b[0m \u001b[43m    \u001b[49m\u001b[38;5;28;43mself\u001b[39;49m\u001b[38;5;241;43m.\u001b[39;49m\u001b[43mget_parent\u001b[49m\u001b[43m(\u001b[49m\u001b[38;5;124;43m\"\u001b[39;49m\u001b[38;5;124;43mshell\u001b[39;49m\u001b[38;5;124;43m\"\u001b[39;49m\u001b[43m)\u001b[49m\u001b[43m,\u001b[49m\n\u001b[0;32m   1286\u001b[0m \u001b[43m    \u001b[49m\u001b[43mpassword\u001b[49m\u001b[38;5;241;43m=\u001b[39;49m\u001b[38;5;28;43;01mFalse\u001b[39;49;00m\u001b[43m,\u001b[49m\n\u001b[0;32m   1287\u001b[0m \u001b[43m\u001b[49m\u001b[43m)\u001b[49m\n",
      "File \u001b[1;32m~\\AppData\\Roaming\\Python\\Python312\\site-packages\\ipykernel\\kernelbase.py:1325\u001b[0m, in \u001b[0;36mKernel._input_request\u001b[1;34m(self, prompt, ident, parent, password)\u001b[0m\n\u001b[0;32m   1322\u001b[0m \u001b[38;5;28;01mexcept\u001b[39;00m \u001b[38;5;167;01mKeyboardInterrupt\u001b[39;00m:\n\u001b[0;32m   1323\u001b[0m     \u001b[38;5;66;03m# re-raise KeyboardInterrupt, to truncate traceback\u001b[39;00m\n\u001b[0;32m   1324\u001b[0m     msg \u001b[38;5;241m=\u001b[39m \u001b[38;5;124m\"\u001b[39m\u001b[38;5;124mInterrupted by user\u001b[39m\u001b[38;5;124m\"\u001b[39m\n\u001b[1;32m-> 1325\u001b[0m     \u001b[38;5;28;01mraise\u001b[39;00m \u001b[38;5;167;01mKeyboardInterrupt\u001b[39;00m(msg) \u001b[38;5;28;01mfrom\u001b[39;00m \u001b[38;5;28;01mNone\u001b[39;00m\n\u001b[0;32m   1326\u001b[0m \u001b[38;5;28;01mexcept\u001b[39;00m \u001b[38;5;167;01mException\u001b[39;00m:\n\u001b[0;32m   1327\u001b[0m     \u001b[38;5;28mself\u001b[39m\u001b[38;5;241m.\u001b[39mlog\u001b[38;5;241m.\u001b[39mwarning(\u001b[38;5;124m\"\u001b[39m\u001b[38;5;124mInvalid Message:\u001b[39m\u001b[38;5;124m\"\u001b[39m, exc_info\u001b[38;5;241m=\u001b[39m\u001b[38;5;28;01mTrue\u001b[39;00m)\n",
      "\u001b[1;31mKeyboardInterrupt\u001b[0m: Interrupted by user"
     ]
    }
   ],
   "source": [
    "obj = Atm()"
   ]
  },
  {
   "cell_type": "code",
   "execution_count": 47,
   "metadata": {},
   "outputs": [],
   "source": [
    "# use pascal case for writing class name - 'HelloWorld'\n",
    "import sys\n",
    "class Atm:\n",
    "    # koi bhi method and variable banate samay apko self keyword ka use krna pdega\n",
    "\n",
    "    # executes without call\n",
    "    def __init__(self):\n",
    "        \n",
    "        self.pin = ''\n",
    "        self.balance = 0\n",
    "        self.menu()\n",
    "\n",
    "\n",
    "        \n",
    "    def menu(self):\n",
    "       \n",
    "\n",
    "        user_input = input(\"\"\"\n",
    "        1. press 1 to create pin\n",
    "        2. press 2 to change pin\n",
    "        3. press 3 to check balance\n",
    "        4. press 4 to withdraw money\n",
    "        5. Anything to exit\"\"\")\n",
    "        \n",
    "        \n",
    "        if user_input == '1':\n",
    "            # creating pin\n",
    "            self.create_pin()\n",
    "        \n",
    "        \n",
    "        elif user_input == '2':\n",
    "            #change pin\n",
    "            self.change_pin()\n",
    "            \n",
    "        \n",
    "        elif user_input == '3':\n",
    "            #check balance\n",
    "            self.check_bal()\n",
    "        \n",
    "        \n",
    "        elif user_input == '4':\n",
    "            #withdarw\n",
    "            self.withdraw()        \n",
    "        \n",
    "        else:\n",
    "            self.exit()\n",
    "    \n",
    "    # create new pin\n",
    "    def create_pin(self):\n",
    "        user_pin = input(\"Enter your pin : \")\n",
    "\n",
    "        self.pin = user_pin\n",
    "\n",
    "        #setting user bal by taking the input\n",
    "        user_bal = int(input(\"enter your balance :\"))\n",
    "\n",
    "        self.balance = user_bal\n",
    "        print(\"pin created successfully\")\n",
    "        #calling the menu\n",
    "        self.menu()\n",
    "\n",
    "    #change pin function\n",
    "    def change_pin(self):\n",
    "        old_pin = input(\"Enter old pin\")\n",
    "\n",
    "        if old_pin == self.pin:\n",
    "            #let him change the pin\n",
    "            new_pin = input('Enter new Pin')\n",
    "            self.pin = new_pin\n",
    "            print(\"pin changed successfully\")\n",
    "            self.menu()\n",
    "        else:\n",
    "            print('invalid pin')\n",
    "            self.menu()\n",
    "\n",
    "    # check balance\n",
    "    def check_bal(self):\n",
    "        user_pin = input(\"enter your pin\")\n",
    "\n",
    "        if user_pin == self.pin:\n",
    "            print(\"your balance is : \" + self.balance)\n",
    "        else:\n",
    "            print(\"you Entered the wrong pin . please enter the pin correctly and try again\")\n",
    "\n",
    "    # withdraw function -\n",
    "    #  koi bhi method class k likhe kisi bhi method ko call nahi kr skta. Ye kaam sirf object hi kr skta hai.\n",
    "    def withdraw(self):\n",
    "        user_pin  = input(\"Enter the pin\")\n",
    "        if user_pin == self.pin:\n",
    "            #allow to withdraw\n",
    "            amount = int(input('enter the amount'))\n",
    "            #checking sufficient bal or not\n",
    "            if amount <= self.balance:\n",
    "                self.balance = self.balance - amount\n",
    "                print(\"withdrawl successsful\")\n",
    "                print(\"your balance after withdrawl is :\", self.balance)\n",
    "            else:\n",
    "                print(\"insufficient funds\")\n",
    "        else:\n",
    "            print(\"password incorrect\")\n",
    "\n",
    "        #calling the menu\n",
    "        self.menu()\n",
    "\n",
    "    #exit function\n",
    "    def exit(self):\n",
    "        sys.exit()"
   ]
  },
  {
   "cell_type": "code",
   "execution_count": 48,
   "metadata": {},
   "outputs": [
    {
     "name": "stdout",
     "output_type": "stream",
     "text": [
      "pin created successfully\n",
      "insufficient funds\n"
     ]
    }
   ],
   "source": [
    "obj = Atm()"
   ]
  },
  {
   "cell_type": "markdown",
   "metadata": {},
   "source": [
    "    Methods and Functions :- class k andar likha funciton ko method bolte hain and agr bhr likha hai to function"
   ]
  },
  {
   "cell_type": "code",
   "execution_count": 3,
   "metadata": {},
   "outputs": [],
   "source": [
    "l = [1,2]\n",
    "# function - outside the list class\n",
    "len(l)\n",
    "# method - inside the list class\n",
    "l.append(4)"
   ]
  },
  {
   "cell_type": "markdown",
   "metadata": {},
   "source": [
    "    Magic Method aka Dunder Method:\n",
    "\n",
    "    #syntax--\n",
    "    __methodName__"
   ]
  },
  {
   "cell_type": "markdown",
   "metadata": {},
   "source": [
    "    ex: __init__ , __str__"
   ]
  },
  {
   "cell_type": "code",
   "execution_count": 14,
   "metadata": {},
   "outputs": [
    {
     "name": "stdout",
     "output_type": "stream",
     "text": [
      "1723433350352\n",
      "control user k paas nahi hai. jiska control aap user ko nahi dena chahte wo constrtuctor k andr likha jata hai\n",
      "constructor is used to write configuration related code\n",
      "1723433350352\n"
     ]
    }
   ],
   "source": [
    "class Temp:\n",
    "\n",
    "    def __init__(this):\n",
    "        print(id(this))\n",
    "        print('control user k paas nahi hai. jiska control aap user ko nahi dena chahte wo constrtuctor k andr likha jata hai')\n",
    "        print('constructor is used to write configuration related code')\n",
    "obj = Temp()\n",
    "print(id(obj))"
   ]
  },
  {
   "cell_type": "markdown",
   "metadata": {},
   "source": [
    "    use of constructor - control user k paas nahi hai. jiska control aap user ko nahi dena chahte wo constrtuctor k andr likha jata hai.\n",
    "    \n",
    "    constructor is used to write configuration related code.\n",
    "\n",
    "    You can not change the name of the constructor in python."
   ]
  },
  {
   "cell_type": "markdown",
   "metadata": {},
   "source": [
    "    self:--used to establish intra class communication."
   ]
  },
  {
   "cell_type": "markdown",
   "metadata": {},
   "source": [
    "    self : is nothing but current object. because class ka ek method dusre se baat nahi kr skta."
   ]
  },
  {
   "cell_type": "markdown",
   "metadata": {},
   "source": [
    "    \n",
    "    \n",
    "    \n",
    "    \n",
    "    Creating Fraction data type:"
   ]
  },
  {
   "cell_type": "code",
   "execution_count": 67,
   "metadata": {},
   "outputs": [],
   "source": [
    "class Fraction:\n",
    "    #parameterized constructor - needs input while creating object\n",
    "    def __init__(self, x , y):\n",
    "        self.num = x\n",
    "        self.deno = y\n",
    "    #for printing the object\n",
    "    def __str__(self):\n",
    "        # returns a string\n",
    "        return '{}/{}'.format(self.num , self.deno)\n",
    "\n",
    "    # addition\n",
    "    def __add__(self, ohter):\n",
    "        # other = 2nd fraction\n",
    "        # invoked when you add your frc1 + frc2 - + operator dalte hi invoke hoga\n",
    "        new_num = ((self.num * ohter.deno) + (self.deno * ohter.num))\n",
    "        new_deno = (self.deno * ohter.deno)\n",
    "        new_frc = '{}/{}'.format(new_num , new_deno)\n",
    "        return new_frc\n",
    "    \n",
    "    def __sub__(self ,other):\n",
    "        #executed when you use '-' oprand in your two fractions\n",
    "        new_num = ((self.num * other.deno) - (self.deno * other.num))\n",
    "        new_deno = (self.deno * other.deno)\n",
    "        new_frc = '{}/{}'.format(new_num , new_deno)\n",
    "        return new_frc\n",
    "    \n",
    "    def __mul__(self, other):\n",
    "\n",
    "        #executed when you use '*' oprand in your two fractions\n",
    "        new_num = self.num * other.num\n",
    "        new_deno = self.deno * other.deno\n",
    "        new_frc = '{}/{}'.format(new_num, new_deno)\n",
    "        return new_frc\n",
    "\n",
    "    def __truediv__(self,other):\n",
    "        #executed when you use '/' oprand in your two fractions\n",
    "        new_num = self.num * other.deno\n",
    "        new_deno = self.deno * other.num\n",
    "        new_frac = '{}/{}'.format(new_num, new_deno)\n",
    "        return new_frac"
   ]
  },
  {
   "cell_type": "code",
   "execution_count": 68,
   "metadata": {},
   "outputs": [
    {
     "name": "stdout",
     "output_type": "stream",
     "text": [
      "3/4\n"
     ]
    }
   ],
   "source": [
    "frc = Fraction(3 ,4)\n",
    "# ye code sidha __str__ ke andar enter krega\n",
    "print(frc)"
   ]
  },
  {
   "cell_type": "code",
   "execution_count": 69,
   "metadata": {},
   "outputs": [],
   "source": [
    "frc2 = Fraction(1,2)"
   ]
  },
  {
   "cell_type": "code",
   "execution_count": 70,
   "metadata": {},
   "outputs": [
    {
     "data": {
      "text/plain": [
       "'10/8'"
      ]
     },
     "execution_count": 70,
     "metadata": {},
     "output_type": "execute_result"
    }
   ],
   "source": [
    "frc + frc2"
   ]
  },
  {
   "cell_type": "code",
   "execution_count": 71,
   "metadata": {},
   "outputs": [
    {
     "data": {
      "text/plain": [
       "'2/8'"
      ]
     },
     "execution_count": 71,
     "metadata": {},
     "output_type": "execute_result"
    }
   ],
   "source": [
    "frc - frc2"
   ]
  },
  {
   "cell_type": "code",
   "execution_count": 72,
   "metadata": {},
   "outputs": [
    {
     "data": {
      "text/plain": [
       "'3/8'"
      ]
     },
     "execution_count": 72,
     "metadata": {},
     "output_type": "execute_result"
    }
   ],
   "source": [
    "frc * frc2"
   ]
  },
  {
   "cell_type": "code",
   "execution_count": 73,
   "metadata": {},
   "outputs": [
    {
     "data": {
      "text/plain": [
       "'6/4'"
      ]
     },
     "execution_count": 73,
     "metadata": {},
     "output_type": "execute_result"
    }
   ],
   "source": [
    "frc / frc2"
   ]
  }
 ],
 "metadata": {
  "kernelspec": {
   "display_name": "Python 3",
   "language": "python",
   "name": "python3"
  },
  "language_info": {
   "codemirror_mode": {
    "name": "ipython",
    "version": 3
   },
   "file_extension": ".py",
   "mimetype": "text/x-python",
   "name": "python",
   "nbconvert_exporter": "python",
   "pygments_lexer": "ipython3",
   "version": "3.12.4"
  }
 },
 "nbformat": 4,
 "nbformat_minor": 2
}
